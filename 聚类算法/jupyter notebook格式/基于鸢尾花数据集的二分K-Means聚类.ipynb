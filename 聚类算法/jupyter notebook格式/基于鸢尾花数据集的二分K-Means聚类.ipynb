{
 "cells": [
  {
   "cell_type": "code",
   "execution_count": 2,
   "metadata": {},
   "outputs": [],
   "source": [
    "import time\n",
    "import matplotlib.pyplot as plt\n",
    "import matplotlib\n",
    "matplotlib.rcParams['font.sans-serif'] = [u'SimHei']\n",
    "matplotlib.rcParams['axes.unicode_minus'] = False"
   ]
  },
  {
   "cell_type": "markdown",
   "metadata": {},
   "source": [
    "# 获取数据"
   ]
  },
  {
   "cell_type": "code",
   "execution_count": 3,
   "metadata": {},
   "outputs": [],
   "source": [
    "# 获取鸢尾花数据集,数据包含三种鸢尾花的四个特征,四个特征分别如下\n",
    "# sepal length（花萼长度(cm)）\n",
    "# sepal width（花萼宽度(cm)）\n",
    "# petal length（花瓣长度(cm)）\n",
    "# petal width（花瓣宽度(cm)）\n",
    "from sklearn.datasets import load_iris \n",
    "iris = load_iris()  ## 获取鸢尾花数据集，特征分别是sepal length、sepal width、petal length、petal width\n",
    "X = iris.data[:,2:]  # 通过花瓣的两个特征来聚类"
   ]
  },
  {
   "cell_type": "markdown",
   "metadata": {},
   "source": [
    "# 用算法原理编写K-Means算法"
   ]
  },
  {
   "cell_type": "code",
   "execution_count": 4,
   "metadata": {},
   "outputs": [],
   "source": [
    "import numpy as np\n",
    "def distEclud(vecA,vecB):\n",
    "    \"\"\"\n",
    "    计算两个向量的欧式距离\n",
    "    \"\"\"\n",
    "    return np.sqrt(np.sum(np.power(vecA-vecB,2)))\n",
    "\n",
    "def randCent(dataSet,k):\n",
    "    \"\"\"\n",
    "    随机生成k个点作为质心，其中质心均在整个数据数据的边界之内\n",
    "    \"\"\"\n",
    "    n=dataSet.shape[1] # 获取数据的维度\n",
    "    centroids = np.mat(np.zeros((k,n)))\n",
    "    for j in range(n):\n",
    "        minJ = np.min(dataSet[:,j])\n",
    "        rangeJ = np.float(np.max(dataSet[:,j])-minJ)\n",
    "        centroids[:,j] = minJ+rangeJ*np.random.rand(k,1)\n",
    "    return centroids\n",
    "\n",
    "def kMeans(dataSet,k,distMeas=distEclud, createCent=randCent):\n",
    "    \"\"\"\n",
    "    k-Means聚类算法,返回最终的k各质心和点的分配结果\n",
    "    \"\"\"\n",
    "    m = dataSet.shape[0]  #获取样本数量\n",
    "    # 构建一个簇分配结果矩阵，共两列，第一列为样本所属的簇类值，第二列为样本到簇质心的误差\n",
    "    clusterAssment = np.mat(np.zeros((m,2)))\n",
    "    # 1. 初始化k个质心\n",
    "    centroids = createCent(dataSet,k) \n",
    "    clusterChanged = True\n",
    "    while clusterChanged:\n",
    "        clusterChanged = False\n",
    "        for i in range(m):\n",
    "            minDist = np.inf\n",
    "            minIndex = -1\n",
    "            # 2. 找出最近的质心\n",
    "            for j in range(k):\n",
    "                distJI = distMeas(centroids[j,:],dataSet[i,:])\n",
    "                if distJI < minDist:\n",
    "                    minDist = distJI\n",
    "                    minIndex = j\n",
    "            # 3. 更新每一行样本所属的簇\n",
    "            if clusterAssment[i,0] != minIndex:\n",
    "                clusterChanged = True\n",
    "            clusterAssment[i,:]=minIndex,minDist**2\n",
    "        print(centroids) # 打印质心\n",
    "        # 4. 更新质心\n",
    "        for cent in range(k):\n",
    "            ptsClust = dataSet[np.nonzero(clusterAssment[:,0].A==cent)[0]] # 获取给定簇的所有点\n",
    "            centroids[cent,:] = np.mean(ptsClust,axis=0) # 沿矩阵列的方向求均值\n",
    "    return centroids,clusterAssment"
   ]
  },
  {
   "cell_type": "code",
   "execution_count": 5,
   "metadata": {},
   "outputs": [
    {
     "name": "stdout",
     "output_type": "stream",
     "text": [
      "[[1.50872709 1.27377536]\n",
      " [1.65485332 1.75455158]\n",
      " [6.08211903 0.88139858]]\n",
      "[[1.462      0.246     ]\n",
      " [3.4625     1.0625    ]\n",
      " [5.03152174 1.72934783]]\n",
      "[[1.462      0.246     ]\n",
      " [3.84782609 1.1826087 ]\n",
      " [5.22207792 1.82337662]]\n",
      "[[1.462      0.246     ]\n",
      " [4.06388889 1.25555556]\n",
      " [5.3796875  1.9125    ]]\n",
      "[[1.462      0.246     ]\n",
      " [4.19130435 1.30217391]\n",
      " [5.51481481 1.99444444]]\n",
      "[[1.462      0.246     ]\n",
      " [4.22083333 1.31041667]\n",
      " [5.53846154 2.01346154]]\n",
      "[[1.462      0.246     ]\n",
      " [4.25490196 1.33921569]\n",
      " [5.58367347 2.02653061]]\n",
      "[[1.462      0.246     ]\n",
      " [4.26923077 1.34230769]\n",
      " [5.59583333 2.0375    ]]\n",
      "用K-Means算法原理聚类耗时： 0.20244646072387695\n"
     ]
    },
    {
     "data": {
      "image/png": "[encoded data removed]",
      "text/plain": [
       "<Figure size 432x288 with 2 Axes>"
      ]
     },
     "metadata": {},
     "output_type": "display_data"
    }
   ],
   "source": [
    "s=time.time()\n",
    "myCentroids,clustAssing=kMeans(X,3)  # myCentroids为簇质心\n",
    "print(\"用K-Means算法原理聚类耗时：\",time.time()-s)\n",
    "centroids=myCentroids.A # 将matrix转换为ndarray类型\n",
    "# 获取聚类后的样本所属的簇值，将matrix转换为ndarray\n",
    "y_kmeans=clustAssing[:,0].A[:,0]\n",
    "# 未聚类前的数据分布\n",
    "plt.subplot(121)\n",
    "plt.scatter(X[:, 0], X[:, 1], s=50)\n",
    "plt.xlabel('petal length')\n",
    "plt.ylabel('petal width')\n",
    "plt.title(\"未聚类前的数据分布\")\n",
    "plt.subplots_adjust(wspace=0.5)\n",
    "plt.subplot(122)\n",
    "plt.scatter(X[:, 0], X[:, 1], c=y_kmeans, s=50, cmap='viridis')\n",
    "# x0 = X[np.nonzero(clustAssing[:,0]==0)[0]]\n",
    "# x1 = X[np.nonzero(clustAssing[:,0]==1)[0]]\n",
    "# x2 = X[np.nonzero(clustAssing[:,0]==2)[0]]\n",
    "# plt.scatter(x0[:, 0], x0[:, 1], c = \"red\", marker='o', label='label0')\n",
    "# plt.scatter(x1[:, 0], x1[:, 1], c = \"green\", marker='*', label='label1')\n",
    "# plt.scatter(x2[:, 0], x2[:, 1], c = \"blue\", marker='+', label='label2')\n",
    "plt.scatter(centroids[:, 0], centroids[:, 1], c='red', s=100, alpha=0.5)\n",
    "plt.xlabel('petal length')\n",
    "plt.ylabel('petal width')\n",
    "# plt.legend(loc=2)\n",
    "plt.title(\"用K-Means算法原理聚类的效果\")\n",
    "plt.show()  "
   ]
  },
  {
   "cell_type": "markdown",
   "metadata": {},
   "source": [
    "# 二分K-Means算法"
   ]
  },
  {
   "cell_type": "code",
   "execution_count": 6,
   "metadata": {},
   "outputs": [],
   "source": [
    "def biKmeans(dataSet, k, distMeas=distEclud):\n",
    "    m = dataSet.shape[0]\n",
    "    # 创建矩阵来存储每个点的簇的分配结果\n",
    "    clusterAssment = np.mat(np.zeros((m,2)))\n",
    "    # 创建初始簇质心\n",
    "    centroid0 = np.mean(dataSet,axis=0).tolist()[0]\n",
    "    # 用centList列表保存所有质心\n",
    "    centList = [centroid0]\n",
    "    # 计算每个点到质心的误差值\n",
    "    for j in range(m):\n",
    "        clusterAssment[j,1] = distMeas(np.mat(centroid0),dataSet[j,:])**2\n",
    "    while (len(centList) < k):\n",
    "        lowestSSE = np.inf\n",
    "        for i in range(len(centList)):\n",
    "            # 获取当前簇的所有数据\n",
    "            ptsInCurrCluster = dataSet[np.nonzero(clusterAssment[:,0].A == i)[0],:]\n",
    "            # 对该簇的数据进行K-Means聚类\n",
    "            centroidMat, splitClustAss = kMeans(ptsInCurrCluster,2,distMeas)\n",
    "            sseSplit = sum(splitClustAss[:,1]) # 该簇聚类后的sse\n",
    "            sseNotSplit = sum(clusterAssment[np.nonzero(clusterAssment[:,0].A != i)[0],1]) # 获取剩余收据集的sse\n",
    "            # 若该簇划分后的误差和剩余数据的误差之和作为本次最终误差\n",
    "            # 若本次划分的SSE值最小，则本次划分保存，即执行划分操作\n",
    "            if (sseSplit + sseNotSplit) < lowestSSE:\n",
    "                bestCentToSplit = i\n",
    "                bestNewCents = centroidMat\n",
    "                bestClustAss = splitClustAss.copy()\n",
    "                lowestSSE = sseSplit + sseNotSplit\n",
    "        # 将簇编号0,1更新为划分簇和新加入簇的编号\n",
    "        bestClustAss[np.nonzero(bestClustAss[:,0].A == 1)[0],0]= len(centList)\n",
    "        bestClustAss[np.nonzero(bestClustAss[:,0].A == 0)[0],0]= bestCentToSplit\n",
    "\n",
    "        print(\"the bestCentToSplit is: \",bestCentToSplit)\n",
    "        print(\"the len of bestClustAss is: \",len(bestClustAss))\n",
    "        # 更新质心，新的质心会被增加到centList列表中\n",
    "        centList[bestCentToSplit] = bestNewCents[0,:]\n",
    "        centList.append(bestNewCents[1,:])\n",
    "\n",
    "        # 更新簇的分配结果\n",
    "        clusterAssment[np.nonzero(clusterAssment[:,0].A == bestCentToSplit)[0],:] = bestClustAss\n",
    "    return centList, clusterAssment\n",
    "    "
   ]
  },
  {
   "cell_type": "code",
   "execution_count": 15,
   "metadata": {},
   "outputs": [
    {
     "name": "stdout",
     "output_type": "stream",
     "text": [
      "[[5.2172841  1.9391939 ]\n",
      " [4.3433217  0.91191479]]\n",
      "[[5.46842105 1.97368421]\n",
      " [2.70967742 0.72473118]]\n",
      "[[5.17160494 1.79876543]\n",
      " [2.09855072 0.49565217]]\n",
      "[[4.98947368 1.71052632]\n",
      " [1.63090909 0.31636364]]\n",
      "[[4.95876289 1.69587629]\n",
      " [1.56037736 0.29056604]]\n",
      "[[4.92525253 1.68181818]\n",
      " [1.49215686 0.2627451 ]]\n",
      "the bestCentToSplit is:  0\n",
      "the len of bestClustAss is:  150\n",
      "[[5.57828131 2.26208798]\n",
      " [6.82904328 1.15847409]]\n",
      "[[4.83404255 1.6606383 ]\n",
      " [6.64       2.08      ]]\n",
      "[[4.6425     1.5775    ]\n",
      " [6.11578947 2.12105263]]\n",
      "[[4.48823529 1.49264706]\n",
      " [5.88387097 2.09677419]]\n",
      "[[4.42258065 1.42903226]\n",
      " [5.76756757 2.10540541]]\n",
      "[[4.37758621 1.39655172]\n",
      " [5.7        2.08536585]]\n",
      "[[4.36666667 1.3877193 ]\n",
      " [5.68333333 2.08095238]]\n",
      "[[4.34363636 1.37272727]\n",
      " [5.65227273 2.06818182]]\n",
      "[[2.89174634 0.1486599 ]\n",
      " [2.99801244 0.15180966]]\n",
      "[[1.462 0.246]\n",
      " [3.    1.1  ]]\n",
      "the bestCentToSplit is:  0\n",
      "the len of bestClustAss is:  99\n",
      "用二分K-Means算法原理聚类耗时： 0.17553043365478516\n",
      "[matrix([[4.34363636, 1.37272727]]), matrix([[1.49215686, 0.2627451 ]]), matrix([[5.65227273, 2.06818182]])]\n"
     ]
    },
    {
     "data": {
      "image/png": "[encoded data removed]",
      "text/plain": [
       "<Figure size 432x288 with 2 Axes>"
      ]
     },
     "metadata": {},
     "output_type": "display_data"
    }
   ],
   "source": [
    "s=time.time()\n",
    "myCentroids,clustAssing=biKmeans(X,3)  # myCentroids为簇质心\n",
    "print(\"用二分K-Means算法原理聚类耗时：\",time.time()-s)\n",
    "centroids= np.array([i.A.tolist()[0] for i in myCentroids]) # 将matrix转换为ndarray类型\n",
    "# 获取聚类后的样本所属的簇值，将matrix转换为ndarray\n",
    "y_kmeans=clustAssing[:,0].A[:,0]\n",
    "# 未聚类前的数据分布\n",
    "plt.subplot(121)\n",
    "plt.scatter(X[:, 0], X[:, 1], s=50)\n",
    "plt.xlabel('petal length')\n",
    "plt.ylabel('petal width')\n",
    "plt.title(\"未聚类前的数据分布\")\n",
    "plt.subplots_adjust(wspace=0.5)\n",
    "plt.subplot(122)\n",
    "plt.scatter(X[:, 0], X[:, 1], c=y_kmeans, s=50, cmap='viridis')\n",
    "# x0 = X[np.nonzero(clustAssing[:,0]==0)[0]]\n",
    "# x1 = X[np.nonzero(clustAssing[:,0]==1)[0]]\n",
    "# x2 = X[np.nonzero(clustAssing[:,0]==2)[0]]\n",
    "# plt.scatter(x0[:, 0], x0[:, 1], c = \"red\", marker='o', label='label0')\n",
    "# plt.scatter(x1[:, 0], x1[:, 1], c = \"green\", marker='*', label='label1')\n",
    "# plt.scatter(x2[:, 0], x2[:, 1], c = \"blue\", marker='+', label='label2')\n",
    "plt.scatter(centroids[:, 0], centroids[:, 1], c='red', s=100, alpha=0.5)\n",
    "plt.xlabel('petal length')\n",
    "plt.ylabel('petal width')\n",
    "# plt.legend(loc=2)\n",
    "plt.title(\"用二分K-Means算法原理聚类的效果\")\n",
    "plt.show()  "
   ]
  }
 ],
 "metadata": {
  "kernelspec": {
   "display_name": "Python 3",
   "language": "python",
   "name": "python3"
  },
  "language_info": {
   "codemirror_mode": {
    "name": "ipython",
    "version": 3
   },
   "file_extension": ".py",
   "mimetype": "text/x-python",
   "name": "python",
   "nbconvert_exporter": "python",
   "pygments_lexer": "ipython3",
   "version": "3.6.5"
  }
 },
 "nbformat": 4,
 "nbformat_minor": 2
}
